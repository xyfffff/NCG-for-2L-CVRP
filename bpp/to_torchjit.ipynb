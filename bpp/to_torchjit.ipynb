{
 "cells": [
  {
   "cell_type": "code",
   "execution_count": null,
   "metadata": {},
   "outputs": [],
   "source": [
    "import sys\n",
    "sys.path.append(\"./code/\")\n",
    "\n",
    "from model import RNNBinPacking\n",
    "class RNNBinPackingWithSigmoid(RNNBinPacking):\n",
    "    def forward(self, x):\n",
    "        x = super().forward(x)\n",
    "        return x.sigmoid()\n",
    "\n",
    "import json\n",
    "import torch\n",
    "from datetime import datetime"
   ]
  },
  {
   "cell_type": "code",
   "execution_count": null,
   "metadata": {},
   "outputs": [],
   "source": [
    "with open('args_info.json', 'r', encoding='utf-8') as f:\n",
    "    args_dict = json.load(f)\n",
    "\n",
    "hidden_size = args_dict['dim']\n",
    "nhead = args_dict['head']\n",
    "num_transformer_layers = args_dict['transformer_layers']\n",
    "num_rnn_layers = args_dict['rnn_layers']\n",
    "num_fc_neurons = hidden_size\n",
    "d_ff = 4 * hidden_size\n",
    "device = torch.device(\"cuda:0\" if args_dict['gpu'] and torch.cuda.is_available() else \"cpu\")\n",
    "\n",
    "model = RNNBinPackingWithSigmoid(hidden_size, nhead, num_transformer_layers, num_rnn_layers, num_fc_neurons, d_ff)\n",
    "model.load_state_dict(torch.load(\"./models/best_model_checkpoint.pth\")['model_state_dict'])\n",
    "model.eval()\n",
    "\n",
    "batch_size = 1\n",
    "sequence_length = 20\n",
    "example_data = torch.randint(1, 50, (batch_size, sequence_length, 2)).float()\n",
    "example_order = torch.randint(0, 10, (batch_size, sequence_length, 1)).sort(dim=1)[0].float()\n",
    "print(example_order.shape)\n",
    "example_input = torch.cat([example_data, example_order], dim=-1)\n",
    "\n",
    "traced_model = torch.jit.trace(model, (example_input))\n",
    "# traced_model = torch.jit.script(model)\n",
    "\n",
    "now = datetime.now()\n",
    "formatted_now = now.strftime(\"%Y-%m-%d_%H-%M-%S\")\n",
    "\n",
    "model_filename = f\"bpp_{formatted_now}.pt\"\n",
    "traced_model.save(model_filename)"
   ]
  }
 ],
 "metadata": {
  "kernelspec": {
   "display_name": "cvrptw",
   "language": "python",
   "name": "python3"
  },
  "language_info": {
   "codemirror_mode": {
    "name": "ipython",
    "version": 3
   },
   "file_extension": ".py",
   "mimetype": "text/x-python",
   "name": "python",
   "nbconvert_exporter": "python",
   "pygments_lexer": "ipython3",
   "version": "3.8.17"
  },
  "orig_nbformat": 4
 },
 "nbformat": 4,
 "nbformat_minor": 2
}
